{
 "cells": [
  {
   "cell_type": "markdown",
   "metadata": {},
   "source": [
    "# Supervised Learning and K Nearest Neighbors Exercises\n",
    "\n",
    "![knn.png](Assets/knn.png)"
   ]
  },
  {
   "cell_type": "markdown",
   "metadata": {},
   "source": [
    "# Learning Objectives:\n",
    "\n",
    "- Explain supervised learning and how it can be applied to regression and classification problems\n",
    "- Apply K-Nearest Neighbor (KNN) algorithm for classification\n",
    "- Apply Intel® Extension for Scikit-learn* to leverage underlying compute capabilities of hardware\n",
    "\n",
    "# scikit-learn* \n",
    "\n",
    "Frameworks provide structure that Data Scientists use to build code. Frameworks are more than just libraries, because in addition to callable code, frameworks influence how code is written. \n",
    "\n",
    "A main virtue of using an optimized framework is that code runs faster. Code that runs faster is just generally more convenient but when we begin looking at applied data science and AI models, we can see more material benefits. Here you will see how optimization, particularly hyperparameter optimization can benefit more than just speed. \n",
    "\n",
    "These exercises will demonstrate how to apply **the Intel® Extension for Scikit-learn*,** a seamless way to speed up your Scikit-learn application. The acceleration is achieved through the use of the Intel® oneAPI Data Analytics Library (oneDAL). Patching is the term used to extend scikit-learn with Intel optimizations and makes it a well-suited machine learning framework for dealing with real-life problems. \n",
    "\n",
    "To get optimized versions of many Scikit-learn algorithms using a patch() approach consisting of adding these lines of code after importing sklearn: \n",
    "\n",
    "- **from sklearnex import patch_sklearn**\n",
    "- **patch_sklearn()**\n",
    "\n",
    "## This exercise relies on installation of  Intel® Extension for Scikit-learn*\n",
    "\n",
    "If you have not already done so, follow the instructions from Week 1 for instructions\n"
   ]
  },
  {
   "cell_type": "markdown",
   "metadata": {},
   "source": [
    "## Introduction\n",
    "\n",
    "We will be using customer churn data from the telecom industry for the first week's exercises. The data file is called \n",
    "`Orange_Telecom_Churn_Data.csv`. We will load this data together, do some preprocessing, and use K-nearest neighbors to predict customer churn based on account characteristics."
   ]
  },
  {
   "cell_type": "code",
   "execution_count": 20,
   "metadata": {
    "ExecuteTime": {
     "end_time": "2021-09-24T17:39:25.142951Z",
     "start_time": "2021-09-24T17:39:18.604715Z"
    }
   },
   "outputs": [],
   "source": [
    "from __future__ import print_function\n",
    "import os\n",
    "data_path = ['data']\n",
    "\n",
    "from sklearn.preprocessing import LabelBinarizer\n",
    "from sklearn.preprocessing import MinMaxScaler\n",
    "from sklearn.neighbors import KNeighborsClassifier\n",
    "# from sklearnex import patch_sklearn\n",
    "# patch_sklearn()\n",
    "\n"
   ]
  },
  {
   "cell_type": "markdown",
   "metadata": {},
   "source": [
    "## Question 1\n",
    "\n",
    "* Begin by importing the data. Examine the columns and data.\n",
    "* Notice that the data contains a state, area code, and phone number. Do you think these are good features to use when building a machine learning model? Why or why not? \n",
    "\n",
    "We will not be using them, so they can be dropped from the data."
   ]
  },
  {
   "cell_type": "code",
   "execution_count": 21,
   "metadata": {
    "ExecuteTime": {
     "end_time": "2021-09-24T17:39:25.235951Z",
     "start_time": "2021-09-24T17:39:25.146960Z"
    }
   },
   "outputs": [],
   "source": [
    "import pandas as pd\n",
    "\n",
    "# Import the data using the file path\n",
    "filepath = os.sep.join(data_path + ['Orange_Telecom_Churn_Data.csv'])\n",
    "data = pd.read_csv(filepath)"
   ]
  },
  {
   "cell_type": "code",
   "execution_count": 22,
   "metadata": {
    "ExecuteTime": {
     "end_time": "2021-09-24T17:39:27.802971Z",
     "start_time": "2021-09-24T17:39:25.239953Z"
    }
   },
   "outputs": [
    {
     "data": {
      "text/html": [
       "<div>\n",
       "<style scoped>\n",
       "    .dataframe tbody tr th:only-of-type {\n",
       "        vertical-align: middle;\n",
       "    }\n",
       "\n",
       "    .dataframe tbody tr th {\n",
       "        vertical-align: top;\n",
       "    }\n",
       "\n",
       "    .dataframe thead th {\n",
       "        text-align: right;\n",
       "    }\n",
       "</style>\n",
       "<table border=\"1\" class=\"dataframe\">\n",
       "  <thead>\n",
       "    <tr style=\"text-align: right;\">\n",
       "      <th></th>\n",
       "      <th>0</th>\n",
       "    </tr>\n",
       "  </thead>\n",
       "  <tbody>\n",
       "    <tr>\n",
       "      <th>state</th>\n",
       "      <td>KS</td>\n",
       "    </tr>\n",
       "    <tr>\n",
       "      <th>account_length</th>\n",
       "      <td>128</td>\n",
       "    </tr>\n",
       "    <tr>\n",
       "      <th>area_code</th>\n",
       "      <td>415</td>\n",
       "    </tr>\n",
       "    <tr>\n",
       "      <th>phone_number</th>\n",
       "      <td>382-4657</td>\n",
       "    </tr>\n",
       "    <tr>\n",
       "      <th>intl_plan</th>\n",
       "      <td>no</td>\n",
       "    </tr>\n",
       "    <tr>\n",
       "      <th>voice_mail_plan</th>\n",
       "      <td>yes</td>\n",
       "    </tr>\n",
       "    <tr>\n",
       "      <th>number_vmail_messages</th>\n",
       "      <td>25</td>\n",
       "    </tr>\n",
       "    <tr>\n",
       "      <th>total_day_minutes</th>\n",
       "      <td>265.1</td>\n",
       "    </tr>\n",
       "    <tr>\n",
       "      <th>total_day_calls</th>\n",
       "      <td>110</td>\n",
       "    </tr>\n",
       "    <tr>\n",
       "      <th>total_day_charge</th>\n",
       "      <td>45.07</td>\n",
       "    </tr>\n",
       "    <tr>\n",
       "      <th>total_eve_minutes</th>\n",
       "      <td>197.4</td>\n",
       "    </tr>\n",
       "    <tr>\n",
       "      <th>total_eve_calls</th>\n",
       "      <td>99</td>\n",
       "    </tr>\n",
       "    <tr>\n",
       "      <th>total_eve_charge</th>\n",
       "      <td>16.78</td>\n",
       "    </tr>\n",
       "    <tr>\n",
       "      <th>total_night_minutes</th>\n",
       "      <td>244.7</td>\n",
       "    </tr>\n",
       "    <tr>\n",
       "      <th>total_night_calls</th>\n",
       "      <td>91</td>\n",
       "    </tr>\n",
       "    <tr>\n",
       "      <th>total_night_charge</th>\n",
       "      <td>11.01</td>\n",
       "    </tr>\n",
       "    <tr>\n",
       "      <th>total_intl_minutes</th>\n",
       "      <td>10.0</td>\n",
       "    </tr>\n",
       "    <tr>\n",
       "      <th>total_intl_calls</th>\n",
       "      <td>3</td>\n",
       "    </tr>\n",
       "    <tr>\n",
       "      <th>total_intl_charge</th>\n",
       "      <td>2.7</td>\n",
       "    </tr>\n",
       "    <tr>\n",
       "      <th>number_customer_service_calls</th>\n",
       "      <td>1</td>\n",
       "    </tr>\n",
       "    <tr>\n",
       "      <th>churned</th>\n",
       "      <td>False</td>\n",
       "    </tr>\n",
       "  </tbody>\n",
       "</table>\n",
       "</div>"
      ],
      "text/plain": [
       "                                      0\n",
       "state                                KS\n",
       "account_length                      128\n",
       "area_code                           415\n",
       "phone_number                   382-4657\n",
       "intl_plan                            no\n",
       "voice_mail_plan                     yes\n",
       "number_vmail_messages                25\n",
       "total_day_minutes                 265.1\n",
       "total_day_calls                     110\n",
       "total_day_charge                  45.07\n",
       "total_eve_minutes                 197.4\n",
       "total_eve_calls                      99\n",
       "total_eve_charge                  16.78\n",
       "total_night_minutes               244.7\n",
       "total_night_calls                    91\n",
       "total_night_charge                11.01\n",
       "total_intl_minutes                 10.0\n",
       "total_intl_calls                      3\n",
       "total_intl_charge                   2.7\n",
       "number_customer_service_calls         1\n",
       "churned                           False"
      ]
     },
     "execution_count": 22,
     "metadata": {},
     "output_type": "execute_result"
    }
   ],
   "source": [
    "data.head(1).T"
   ]
  },
  {
   "cell_type": "code",
   "execution_count": 23,
   "metadata": {
    "ExecuteTime": {
     "end_time": "2021-09-24T17:39:27.818976Z",
     "start_time": "2021-09-24T17:39:27.806968Z"
    }
   },
   "outputs": [],
   "source": [
    "# Remove extraneous columns\n",
    "data.drop(['state', 'area_code', 'phone_number'], axis=1, inplace=True)"
   ]
  },
  {
   "cell_type": "code",
   "execution_count": 24,
   "metadata": {
    "ExecuteTime": {
     "end_time": "2021-09-24T17:39:27.834972Z",
     "start_time": "2021-09-24T17:39:27.822969Z"
    }
   },
   "outputs": [
    {
     "data": {
      "text/plain": [
       "Index(['account_length', 'intl_plan', 'voice_mail_plan',\n",
       "       'number_vmail_messages', 'total_day_minutes', 'total_day_calls',\n",
       "       'total_day_charge', 'total_eve_minutes', 'total_eve_calls',\n",
       "       'total_eve_charge', 'total_night_minutes', 'total_night_calls',\n",
       "       'total_night_charge', 'total_intl_minutes', 'total_intl_calls',\n",
       "       'total_intl_charge', 'number_customer_service_calls', 'churned'],\n",
       "      dtype='object')"
      ]
     },
     "execution_count": 24,
     "metadata": {},
     "output_type": "execute_result"
    }
   ],
   "source": [
    "data.columns"
   ]
  },
  {
   "cell_type": "markdown",
   "metadata": {},
   "source": [
    "## Question 2\n",
    "\n",
    "* Notice that some of the columns are categorical data and some are floats. These features will need to be numerically encoded using one of the methods from the lecture.\n",
    "* Finally, remember from the lecture that K-nearest neighbors requires scaled data. Scale the data using one of the scaling methods discussed in the lecture."
   ]
  },
  {
   "cell_type": "code",
   "execution_count": 26,
   "metadata": {},
   "outputs": [],
   "source": [
    "lb = LabelBinarizer()\n",
    "\n",
    "for col in ['intl_plan', 'voice_mail_plan', 'churned']:\n",
    "    data[col] = lb.fit_transform(data[col]) # transforming each string to number e.g. no -> 0, yes -> 1"
   ]
  },
  {
   "cell_type": "code",
   "execution_count": 28,
   "metadata": {
    "ExecuteTime": {
     "end_time": "2021-09-24T17:39:29.462033Z",
     "start_time": "2021-09-24T17:39:28.057969Z"
    }
   },
   "outputs": [],
   "source": [
    "# Mute the sklearn warning\n",
    "import warnings\n",
    "warnings.filterwarnings('ignore', module='sklearn')\n",
    "\n",
    "msc = MinMaxScaler() # rescale the distribution to 0 and 1\n",
    "\n",
    "data = pd.DataFrame(msc.fit_transform(data),  # this is an np.array, not a dataframe.\n",
    "                    columns=data.columns) # np.array -> dataframe"
   ]
  },
  {
   "cell_type": "markdown",
   "metadata": {},
   "source": [
    "## Question 3\n",
    "\n",
    "* Separate the feature columns (everything except `churned`) from the label (`churned`). This will create two tables.\n",
    "* Fit a K-nearest neighbors model with a value of `k=3` to this data and predict the outcome on the same data."
   ]
  },
  {
   "cell_type": "code",
   "execution_count": 29,
   "metadata": {
    "ExecuteTime": {
     "end_time": "2021-09-24T17:39:29.478033Z",
     "start_time": "2021-09-24T17:39:29.468035Z"
    }
   },
   "outputs": [
    {
     "name": "stdout",
     "output_type": "stream",
     "text": [
      "   account_length  intl_plan  voice_mail_plan  number_vmail_messages  \\\n",
      "0        0.524793        0.0              1.0               0.480769   \n",
      "1        0.438017        0.0              1.0               0.500000   \n",
      "2        0.561983        0.0              0.0               0.000000   \n",
      "3        0.342975        1.0              0.0               0.000000   \n",
      "4        0.305785        1.0              0.0               0.000000   \n",
      "\n",
      "   total_day_minutes  total_day_calls  total_day_charge  total_eve_minutes  \\\n",
      "0           0.754196         0.666667          0.754183           0.542755   \n",
      "1           0.459744         0.745455          0.459672           0.537531   \n",
      "2           0.692461         0.690909          0.692436           0.333242   \n",
      "3           0.851778         0.430303          0.851740           0.170195   \n",
      "4           0.474253         0.684848          0.474230           0.407754   \n",
      "\n",
      "   total_eve_calls  total_eve_charge  total_night_minutes  total_night_calls  \\\n",
      "0         0.582353          0.542866             0.619494           0.520000   \n",
      "1         0.605882          0.537690             0.644051           0.588571   \n",
      "2         0.647059          0.333225             0.411646           0.594286   \n",
      "3         0.517647          0.170171             0.498481           0.508571   \n",
      "4         0.717647          0.407959             0.473165           0.691429   \n",
      "\n",
      "   total_night_charge  total_intl_minutes  total_intl_calls  \\\n",
      "0            0.619584               0.500              0.15   \n",
      "1            0.644344               0.685              0.15   \n",
      "2            0.411930               0.610              0.25   \n",
      "3            0.498593               0.330              0.35   \n",
      "4            0.473270               0.505              0.15   \n",
      "\n",
      "   total_intl_charge  number_customer_service_calls  churned  \n",
      "0           0.500000                       0.111111      0.0  \n",
      "1           0.685185                       0.111111      0.0  \n",
      "2           0.609259                       0.000000      0.0  \n",
      "3           0.329630                       0.222222      0.0  \n",
      "4           0.505556                       0.333333      0.0  \n"
     ]
    }
   ],
   "source": [
    "print(data.head())\n",
    "\n",
    "# Get a list of all the columns that don't contain the label\n",
    "x_cols = [x for x in data.columns if x != 'churned']\n",
    "\n",
    "# Split the data into two dataframes\n",
    "X_data = data[x_cols]\n",
    "y_data = data['churned']\n",
    "\n",
    "# # alternatively:\n",
    "# X_data = data.copy()\n",
    "# y_data = X_data.pop('churned')"
   ]
  },
  {
   "cell_type": "code",
   "execution_count": 31,
   "metadata": {
    "ExecuteTime": {
     "end_time": "2021-09-24T17:39:31.792494Z",
     "start_time": "2021-09-24T17:39:29.483035Z"
    }
   },
   "outputs": [
    {
     "name": "stdout",
     "output_type": "stream",
     "text": [
      "[0. 0. 0. ... 0. 0. 0.]\n"
     ]
    }
   ],
   "source": [
    "knn = KNeighborsClassifier(n_neighbors=3) # 3-NN\n",
    "\n",
    "knn = knn.fit(X_data, y_data)\n",
    "\n",
    "y_pred = knn.predict(X_data)\n",
    "print(y_pred)"
   ]
  },
  {
   "cell_type": "markdown",
   "metadata": {},
   "source": [
    "## Question 4\n",
    "\n",
    "Ways to measure error haven't been discussed in class yet, but accuracy is an easy one to understand--it is simply the percent of labels that were correctly predicted (either true or false). \n",
    "\n",
    "* Write a function to calculate accuracy using the actual and predicted labels.\n",
    "* Using the function, calculate the accuracy of this K-nearest neighbors model on the data."
   ]
  },
  {
   "cell_type": "code",
   "execution_count": 32,
   "metadata": {
    "ExecuteTime": {
     "end_time": "2021-09-24T17:39:31.808017Z",
     "start_time": "2021-09-24T17:39:31.796497Z"
    }
   },
   "outputs": [],
   "source": [
    "# Function to calculate the % of values that were correctly predicted\n",
    "\n",
    "def accuracy(real, predict):\n",
    "    return sum(real == predict) / float(real.shape[0])"
   ]
  },
  {
   "cell_type": "code",
   "execution_count": 33,
   "metadata": {
    "ExecuteTime": {
     "end_time": "2021-09-24T17:39:31.869542Z",
     "start_time": "2021-09-24T17:39:31.811540Z"
    }
   },
   "outputs": [
    {
     "name": "stdout",
     "output_type": "stream",
     "text": [
      "0.9422\n"
     ]
    }
   ],
   "source": [
    "print(accuracy(y_data, y_pred))"
   ]
  },
  {
   "cell_type": "markdown",
   "metadata": {},
   "source": [
    "# 94%"
   ]
  },
  {
   "cell_type": "markdown",
   "metadata": {},
   "source": [
    "## Question 5\n",
    "\n",
    "* Fit the K-nearest neighbors model again with `n_neighbors=3` but this time use distance for the weights. Calculate the accuracy using the function you created above. \n",
    "* Fit another K-nearest neighbors model. This time use uniform weights but set the power parameter for the Minkowski distance metric to be 1 (`p=1`) i.e. Manhattan Distance.\n",
    "\n",
    "When weighted distances are used for part 1 of this question, a value of 1.0 should be returned for the accuracy. Why do you think this is? *Hint:* we are predicting on the data and with KNN the model *is* the data. We will learn how to avoid this pitfall in the next lecture."
   ]
  },
  {
   "cell_type": "code",
   "execution_count": 34,
   "metadata": {
    "ExecuteTime": {
     "end_time": "2021-09-24T17:39:33.560704Z",
     "start_time": "2021-09-24T17:39:31.872537Z"
    }
   },
   "outputs": [
    {
     "name": "stdout",
     "output_type": "stream",
     "text": [
      "1.0\n"
     ]
    }
   ],
   "source": [
    "knn = KNeighborsClassifier(n_neighbors=5, weights='distance') # 5-NN + added weight depending on the Euclidean Distance\n",
    "\n",
    "knn = knn.fit(X_data, y_data)\n",
    "\n",
    "y_pred = knn.predict(X_data)\n",
    "\n",
    "print(accuracy(y_data, y_pred))"
   ]
  },
  {
   "cell_type": "markdown",
   "metadata": {},
   "source": [
    "# 100 %"
   ]
  },
  {
   "cell_type": "code",
   "execution_count": 35,
   "metadata": {
    "ExecuteTime": {
     "end_time": "2021-09-24T17:39:35.719931Z",
     "start_time": "2021-09-24T17:39:33.564707Z"
    }
   },
   "outputs": [
    {
     "name": "stdout",
     "output_type": "stream",
     "text": [
      "0.9356\n"
     ]
    }
   ],
   "source": [
    "knn = KNeighborsClassifier(n_neighbors=5, p=1) # 5-NN + added weight depending on the Manhattan Distance\n",
    "\n",
    "knn = knn.fit(X_data, y_data)\n",
    "\n",
    "y_pred = knn.predict(X_data)\n",
    "\n",
    "print(accuracy(y_data, y_pred))"
   ]
  },
  {
   "cell_type": "markdown",
   "metadata": {},
   "source": [
    "# 93%"
   ]
  },
  {
   "cell_type": "markdown",
   "metadata": {},
   "source": [
    "## Question 6\n",
    "\n",
    "* Fit a K-nearest neighbors model using values of `k` (`n_neighbors`) ranging from 1 to 20. Use uniform weights (the default). The coefficient for the Minkowski distance (`p`) can be set to either 1 or 2--just be consistent. Store the accuracy and the value of `k` used from each of these fits in a list or dictionary.\n",
    "* Plot (or view the table of) the `accuracy` vs `k`. What do you notice happens when `k=1`? Why do you think this is? *Hint:* it's for the same reason discussed above."
   ]
  },
  {
   "cell_type": "code",
   "execution_count": 36,
   "metadata": {
    "ExecuteTime": {
     "end_time": "2021-09-24T17:40:09.584584Z",
     "start_time": "2021-09-24T17:39:35.726931Z"
    }
   },
   "outputs": [],
   "source": [
    "# Fit the K-nearest neighbors model with different values of k\n",
    "# Store the accuracy measurement for each k\n",
    "\n",
    "score_list = list()\n",
    "\n",
    "for k in range(1, 21):\n",
    "    \n",
    "    knn = KNeighborsClassifier(n_neighbors=k)\n",
    "    knn = knn.fit(X_data, y_data)\n",
    "    \n",
    "    y_pred = knn.predict(X_data)\n",
    "    score = accuracy(y_data, y_pred)\n",
    "    \n",
    "    score_list.append((k, score))\n",
    "    \n",
    "score_df = pd.DataFrame(score_list, columns=['k', 'accuracy'])"
   ]
  },
  {
   "cell_type": "code",
   "execution_count": 37,
   "metadata": {
    "ExecuteTime": {
     "end_time": "2021-09-24T17:40:10.214160Z",
     "start_time": "2021-09-24T17:40:09.587584Z"
    }
   },
   "outputs": [],
   "source": [
    "# Import libraries to make the plot\n",
    "\n",
    "import matplotlib.pyplot as plt\n",
    "import seaborn as sns\n",
    "\n",
    "%matplotlib inline"
   ]
  },
  {
   "cell_type": "code",
   "execution_count": 38,
   "metadata": {
    "ExecuteTime": {
     "end_time": "2021-09-24T17:40:10.853317Z",
     "start_time": "2021-09-24T17:40:10.218157Z"
    }
   },
   "outputs": [
    {
     "data": {
      "image/png": "[encoded data removed]",
      "text/plain": [
       "<Figure size 640x480 with 1 Axes>"
      ]
     },
     "metadata": {},
     "output_type": "display_data"
    }
   ],
   "source": [
    "sns.set_context('talk')\n",
    "sns.set_style('ticks')\n",
    "sns.set_palette('dark')\n",
    "\n",
    "ax = score_df.set_index('k').plot()\n",
    "\n",
    "ax.set(xlabel='k', ylabel='accuracy')\n",
    "ax.set_xticks(range(1, 21));"
   ]
  },
  {
   "cell_type": "markdown",
   "metadata": {},
   "source": [
    "accuracy decreases when k is even\n",
    "accuracy increases when k is odd\n",
    "\n",
    "accuracy when k is 5: 0.93\n",
    "accuracy when k is 5 and the weight for distance is added: 1.0\n",
    "-> accuracy differs a lot depending on not only by the value of k also the parameter used.\n",
    "\n",
    "https://scikit-learn.org/stable/modules/generated/sklearn.neighbors.KNeighborsClassifier.html?highlight=nearest+neighbor\n"
   ]
  },
  {
   "cell_type": "markdown",
   "metadata": {},
   "source": [
    "(Q1) MinMaxScaler을 채택하고, Manhattan vs. Euclidean distances의 성능을 비교 분석하시오 (1점).\n",
    "Scaler: MinMaxScaler \n",
    "\n",
    "K: 7\n",
    "- Manhattan distance: accuracy 92%\n",
    "- Eucliedean distance: accuracy 100%\n",
    "\n",
    "K: 5\n",
    "- Manhattan distance: accuracy 93%\n",
    "- Euclidean distance: accuracy 100%\n",
    "\n",
    "K: 3\n",
    "- Manhattan distance: accuracy 94%\n",
    "- Euclidean distance: accuracy 100%\n",
    "\n",
    "Scaler를 MinMaxScaler로 채택하고 K 값이 각각 7, 5, 3일 경우에 대해 weight를 Manhattan distance와 Euclidean distance에 따라 주도록 테스트 해 보았다. 그 결과 세 가지의 경우 모두 Manhattan distance로 설정했을 경우보다 Euclidean distance로 설정했을 경우 더 높은 accuracy를 보임을 확인할 수 있었다. 이를 통해 Manhattan distance로 설정했을 경우보다 Euclidean distance로 설정했을 경우 대체로 더 높은 성능을 보임을 알 수 있었다. \n",
    "\n",
    "이러한 결과의 연유는 두 거리의 거리 측정 방식의 차이에서 찾을 수 있다. Manhattan distance는 각 차원의 차이의 절대값을 합하여 거리를 구하는 방식이고 Euclidean distance는 각 차원의 차이의 제곱의 합의 제곱근을 구해 거리를 구하는 방식이다. 이때 삼각부등식을 고려하여 생각해 보면 Euclidean distance가 Manhattan distance보다 더 가까운 거리의 데이터일수록 가중치를 더하는 목적을 더 잘 반영하는 것임을 알 수 있다. 삼각부등식이란 삼각형에서 두 변의 길이의 합이 나머지 변의 길이보다 크거나 같다는 부등식으로 Manhattan distance는 삼각형에서 두 변의 길이의 합을 구하는 방식이고, Euclidean distance는 그 나머지 변의 길이를 재는 것으로 볼 수 있으며 그러므로 Euclidean distance 값이 Manhattan distnace 값보다 작거나 같음을 알 수 있다. \n",
    "\n",
    "\n",
    "(Q2) StandardScaler을 채택하고, Manhattan vs. Euclidean distances의 성능을 비교 분석하시오 (1점).\n",
    "\n",
    "(Q3) NN 알고리즘의 3가지 주요 고려사항(Scaling, Distances, K-values)에 대한 실험 결과를 분석(Empirical Evidences)하고, Reasoning을 제시하시오 (1점)."
   ]
  }
 ],
 "metadata": {
  "anaconda-cloud": {},
  "kernelspec": {
   "display_name": "Python 3",
   "language": "python",
   "name": "python3"
  },
  "language_info": {
   "codemirror_mode": {
    "name": "ipython",
    "version": 3
   },
   "file_extension": ".py",
   "mimetype": "text/x-python",
   "name": "python",
   "nbconvert_exporter": "python",
   "pygments_lexer": "ipython3",
   "version": "3.8.8"
  },
  "name": "Linear_Regression_and_K_Nearest_Neighbors_Exercises-ANSWERS",
  "notebookId": 2125319687183902
 },
 "nbformat": 4,
 "nbformat_minor": 1
}
